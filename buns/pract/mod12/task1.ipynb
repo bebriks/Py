{
  "nbformat": 4,
  "nbformat_minor": 0,
  "metadata": {
    "colab": {
      "provenance": []
    },
    "kernelspec": {
      "name": "python3",
      "display_name": "Python 3"
    },
    "language_info": {
      "name": "python"
    }
  },
  "cells": [
    {
      "cell_type": "code",
      "source": [
        "import sqlite3\n",
        "import pandas as pd\n",
        "conn = sqlite3.connect('netflix.sqlite')"
      ],
      "metadata": {
        "id": "2dSGobtk9uzb"
      },
      "execution_count": 411,
      "outputs": []
    },
    {
      "cell_type": "code",
      "source": [
        "c = conn.cursor()"
      ],
      "metadata": {
        "id": "MBBRDoGK9yng"
      },
      "execution_count": 412,
      "outputs": []
    },
    {
      "cell_type": "code",
      "source": [
        "def dict_factory(cursor, row):\n",
        "    # обертка для преобразования\n",
        "    # полученной строки. (взята из документации)\n",
        "    d = {}\n",
        "    for idx, col in enumerate(cursor.description):\n",
        "        d[col[0]] = row[idx]\n",
        "    return d\n",
        "conn.row_factory = dict_factory\n",
        "c = conn.cursor()  # Исправлено на большую \"C\"\n",
        "c.execute(\"SELECT * FROM netflix_titles limit 3\")\n",
        "result = c.fetchall()  # Теперь будут словари\n",
        "print(result)"
      ],
      "metadata": {
        "id": "J_n6AhiI_kRy"
      },
      "execution_count": null,
      "outputs": []
    },
    {
      "cell_type": "code",
      "source": [
        "con = sqlite3.connect('task1.sqlite')\n",
        "curs = con.cursor()"
      ],
      "metadata": {
        "id": "l6EHd6dHLz7O"
      },
      "execution_count": 414,
      "outputs": []
    },
    {
      "cell_type": "code",
      "source": [
        "curs.execute('''\n",
        "CREATE TABLE IF NOT EXISTS actors (\n",
        "    show_id INTEGER,\n",
        "    actor_name TEXT\n",
        ")\n",
        "''')"
      ],
      "metadata": {
        "colab": {
          "base_uri": "https://localhost:8080/"
        },
        "id": "9teX-MBdMZ3N",
        "outputId": "83e8692d-7dd3-4844-cdcd-7189b13d1d35"
      },
      "execution_count": 415,
      "outputs": [
        {
          "output_type": "execute_result",
          "data": {
            "text/plain": [
              "<sqlite3.Cursor at 0x7a760b383b40>"
            ]
          },
          "metadata": {},
          "execution_count": 415
        }
      ]
    },
    {
      "cell_type": "code",
      "source": [
        "query = 'INSERT INTO actors (show_id, actor_name) VALUES (?, ?)'\n",
        "actors = []\n",
        "types = c.execute('''SELECT show_id, \"cast\" FROM netflix_titles''')\n",
        "for actor in types:\n",
        "    actor_values = actor.values()\n",
        "    actors_names_str = list(actor_values)[1]\n",
        "    actors_show_id = list(actor_values)[0]\n",
        "    actors_names_list = actors_names_str.split(', ')\n",
        "    for actor_name in actors_names_list:\n",
        "        actors.append((actors_show_id, actor_name,))\n",
        "with con:\n",
        "    curs.executemany(query, actors)\n",
        "\n"
      ],
      "metadata": {
        "id": "eX50W4TnxVnt"
      },
      "execution_count": 416,
      "outputs": []
    },
    {
      "cell_type": "code",
      "source": [
        "pd.read_sql(\"SELECT * FROM actors\", con)"
      ],
      "metadata": {
        "id": "BTPPR7u6ODe7"
      },
      "execution_count": null,
      "outputs": []
    },
    {
      "cell_type": "code",
      "source": [
        "curs.execute('''\n",
        "CREATE TABLE IF NOT EXISTS films (\n",
        "    show_id INTEGER,\n",
        "    film TEXT\n",
        ")\n",
        "''')"
      ],
      "metadata": {
        "id": "qmsNR114O4fZ"
      },
      "execution_count": null,
      "outputs": []
    },
    {
      "cell_type": "code",
      "source": [
        "query = 'INSERT INTO films (show_id, film) VALUES (?, ?)'\n",
        "flms = []\n",
        "types = c.execute('''SELECT show_id, type, title FROM netflix_titles WHERE type = 'Movie' ''')\n",
        "for movie in types:\n",
        "    movie_values = movie.values()\n",
        "    movie_id = list(movie_values)[0]\n",
        "    movie_title = list(movie_values)[2]\n",
        "    flms.append((movie_id, movie_title,))  # Wrap the title in a tuple\n",
        "\n",
        "with con:\n",
        "    curs.executemany(query, flms)\n",
        "\n",
        ""
      ],
      "metadata": {
        "id": "YOTu9v3BP5p8"
      },
      "execution_count": 419,
      "outputs": []
    },
    {
      "cell_type": "code",
      "source": [
        "pd.read_sql(\"SELECT * FROM films\", con)"
      ],
      "metadata": {
        "id": "ELXHHlXcPOPD"
      },
      "execution_count": null,
      "outputs": []
    },
    {
      "cell_type": "code",
      "source": [
        "curs.execute('''\n",
        "CREATE TABLE IF NOT EXISTS actor_film (\n",
        "    show_id INTEGER,\n",
        "    actor_name TEXT,\n",
        "    film TEXT\n",
        ")\n",
        "''')"
      ],
      "metadata": {
        "id": "JXKGOth71qYA"
      },
      "execution_count": null,
      "outputs": []
    },
    {
      "cell_type": "code",
      "source": [
        "query = \"INSERT INTO actor_film (show_id, actor_name, film) VALUES (?,?,?)\"\n",
        "act_flm = []\n",
        "types_films = curs.execute(\"\"\"\n",
        "SELECT actors.show_id, actors.actor_name, films.film\n",
        " FROM actors\n",
        "JOIN films ON actors.show_id = films.show_id\n",
        "\"\"\").fetchall()\n",
        "for film_id, actor, film in types_films:\n",
        "    act_flm.append((film_id, actor, film))\n",
        "with con:\n",
        "    curs.executemany(query, act_flm)\n"
      ],
      "metadata": {
        "id": "b70BDwT0_uXC"
      },
      "execution_count": 424,
      "outputs": []
    },
    {
      "cell_type": "code",
      "source": [
        "pd.read_sql(\"SELECT * FROM actor_film\", con)"
      ],
      "metadata": {
        "id": "sVE2AIqx_ojD"
      },
      "execution_count": null,
      "outputs": []
    },
    {
      "cell_type": "code",
      "source": [
        "con2 = sqlite3.connect('task1.sqlite')\n",
        "c2 = con2.cursor()\n",
        "\n",
        "sql_query = '''\n",
        "SELECT actor1.actor_name AS actor1, actor2.actor_name AS actor2, COUNT(*) AS count\n",
        "FROM actors AS actor1\n",
        "JOIN actors AS actor2 ON actor1.show_id = actor2.show_id AND actor1.actor_name < actor2.actor_name\n",
        "GROUP BY actor1.actor_name, actor2.actor_name\n",
        "ORDER BY count DESC\n",
        "LIMIT 1;\n",
        "'''\n",
        "\n",
        "# Выполнение запроса\n",
        "c2.execute(sql_query)\n",
        "\n",
        "# Получение результатов\n",
        "result = c2.fetchone()\n",
        "\n",
        "# Вывод результатов\n",
        "if result:\n",
        "    actor1, actor2, count = result\n",
        "    print(f\"Наиболее часто работающая пара актеров: {actor1} и {actor2}, количество фильмов: {count}\")"
      ],
      "metadata": {
        "colab": {
          "base_uri": "https://localhost:8080/"
        },
        "id": "jncOE667MAnN",
        "outputId": "28cb1ddb-0cd0-461b-db30-ce67cf883d63"
      },
      "execution_count": 426,
      "outputs": [
        {
          "output_type": "stream",
          "name": "stdout",
          "text": [
            "Наиболее часто работающая пара актеров: John Paul Tremblay и Robb Wells, количество фильмов: 15\n"
          ]
        }
      ]
    }
  ]
}